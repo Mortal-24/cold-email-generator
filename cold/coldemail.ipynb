{
 "cells": [
  {
   "cell_type": "code",
   "execution_count": 43,
   "id": "19da8607",
   "metadata": {},
   "outputs": [],
   "source": [
    "from langchain_groq import ChatGroq"
   ]
  },
  {
   "cell_type": "code",
   "execution_count": 45,
   "id": "a0b71759",
   "metadata": {},
   "outputs": [
    {
     "name": "stdout",
     "output_type": "stream",
     "text": [
      "The first person to step onto the moon was Neil Armstrong. He stepped out of the lunar module Eagle and onto the moon's surface on July 20, 1969, during the Apollo 11 mission. Armstrong famously declared, \"That's one small step for man, one giant leap for mankind,\" as he took his first steps on the moon.\n"
     ]
    }
   ],
   "source": [
    "from langchain_groq import ChatGroq # type: ignore\n",
    "\n",
    "llm = ChatGroq(\n",
    "    temperature=0,\n",
    "    groq_api_key='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',\n",
    "    model_name=\"llama-3.1-70b-versatile\",\n",
    ")\n",
    "\n",
    "response = llm.invoke(\"the first person to step onto the moon\")\n",
    "print(response.content)\n"
   ]
  },
  {
   "cell_type": "code",
   "execution_count": 47,
   "id": "28c07244",
   "metadata": {},
   "outputs": [
    {
     "name": "stdout",
     "output_type": "stream",
     "text": [
      "\n",
      "\n",
      "\n",
      "\n",
      "Nike Careers | LiveHire\n",
      "\n",
      "\n",
      "\n",
      "\n",
      "\n",
      "\n",
      "\n",
      "\n",
      "\n",
      "\n",
      "\n",
      "\n",
      "\n",
      "\n",
      "\n",
      "\n",
      "\n",
      "\n",
      "\n",
      "\n",
      "\n",
      "\n",
      "\n",
      "\n",
      "\n",
      "\n",
      "\n",
      "\n",
      "\n",
      "\n",
      "\n",
      "\n",
      "\n",
      "\n",
      "\n",
      "\n",
      "\n",
      "\n",
      "\n",
      "\n",
      "\n",
      "\n",
      "\n",
      "\n",
      "\n",
      "\n",
      "\n",
      "\n",
      "\n",
      "\n",
      "Log inLiveHireLinkedInFacebookGoogleCancelPowered byContract Job Listings for NIKEExciting short-term and contract jobs are available at Nike through the Contract Talent Community managed by Talent Solutions and powered by the LiveHire platform. By applying to a job, your profile is automatically created in the Community. As Nike’s employment partner, Talent Solutions will hold your contract if you are engaged for a contractor position. Currently available in the USA.Job searchWHATCATEGORYShowing 10 of 32Expression of interestAdministrative AssistantHybridNIKE, Inc. does more than outfit the world's best athletes. It is a place to explore potential, obliterate boundaries and push out the edges of what can be. The company looks for people who can grow, think, dream and create. Its culture thrives by embracing diversity and rewarding imagination.\n",
      "\n",
      "IfLocationBeaverton, OR - United StatesWork TypeContract/TempPublished At:5 hours agoAzure Infrastructure Application EngineerHybridNIKE, Inc. does more than outfit the world's best athletes. It is a place to explore potential, obliterate boundaries and push out the edges of what can be. The company looks for people who can grow, think, dream and create. Its culture thrives by embracing diversity and rewarding imagination.LocationBeaverton, OR 97005 - United StatesWork TypeContract/TempPublished At:7 hours agoApplications Engineer - Niche 5RemoteNIKE, Inc. does more than outfit the world's best athletes. It is a place to explore potential, obliterate boundaries and push out the edges of what can be. The company looks for people who can grow, think, dream and create. Its culture thrives by embracing diversity and rewarding imagination.LocationBeaverton, OR 97005 - United StatesWork TypeContract/TempSalary RangeUS$67 - 77 per hourPublished At:8 hours agoLead Costing ManagerHybridNIKE, Inc. does more than outfit the world's best athletes. It is a place to explore potential, obliterate boundaries and push out the edges of what can be. The company looks for people who can grow, think, dream and create. Its culture thrives by embracing diversity and rewarding imagination.LocationBeaverton, OR 97005 - United StatesWork TypeContract/TempPublished At:9 hours agoData Engineer - LeadHybridNIKE, Inc. does more than outfit the world's best athletes. It is a place to explore potential, obliterate boundaries and push out the edges of what can be. The company looks for people who can grow, think, dream and create. Its culture thrives by embracing diversity and rewarding imagination.LocationBeaverton, OR 97005 - United StatesWork TypeContract/TempPublished At:9 hours agoFinance Manager 4HybridNIKE, Inc. does more than outfit the world's best athletes. It is a place to explore potential, obliterate boundaries and push out the edges of what can be. The company looks for people who can grow, think, dream and create. Its culture thrives by embracing diversity and rewarding imagination.LocationBeaverton, OR 97005 - United StatesWork TypeContract/TempPublished At:10 hours agoSenior Materials DeveloperHybridNIKE, Inc. does more than outfit the world's best athletes. It is a place to explore potential, obliterate boundaries and push out the edges of what can be. The company looks for people who can grow, think, dream and create. Its culture thrives by embracing diversity and rewarding imagination.LocationBeaverton, OR 97005 - United StatesWork TypeContract/TempPublished At:13 hours agoSenior Virtual MerchantHybridNIKE, Inc. does more than outfit the world's best athletes. It is a place to explore potential, obliterate boundaries and push out the edges of what can be. The company looks for people who can grow, think, dream and create. Its culture thrives by embracing diversity and rewarding imagination.LocationBeaverton, OR 97005 - United StatesWork TypeContract/TempPublished At:3 days agoPrincipal EngineerRemoteNIKE, Inc. does more than outfit the world's best athletes. It is a place to explore potential, obliterate boundaries and push out the edges of what can be. The company looks for people who can grow, think, dream and create. Its culture thrives by embracing diversity and rewarding imagination.LocationSalem, OR 97301 - United StatesWork TypeContract/TempSalary RangeUS$90 - 100+ per hourPublished At:3 days agoSr. Functional Tech AnalystRemoteNIKE, Inc. does more than outfit the world's best athletes. It is a place to explore potential, obliterate boundaries and push out the edges of what can be. The company looks for people who can grow, think, dream and create. Its culture thrives by embracing diversity and rewarding imagination.LocationBeaverton, OR 97005 - United StatesWork TypeContract/TempSalary RangeUS$64 - 74 per hourPublished At:4 days agoShow more jobsAre you looking for contract roles that will allow you to work flexibly and showcase your unique skillset?Join the Nike Contract Talent Community to be notified of relevant contract job opportunities through our direct sourcing partner Talent Solutions.Join our Contract Talent CommunityPowered byPrivacy PolicyTerms of Service\n",
      "\n",
      "\n",
      "\n",
      "\n",
      "\n",
      "\n",
      "\n",
      "\n"
     ]
    }
   ],
   "source": [
    "from langchain_community.document_loaders import WebBaseLoader\n",
    "\n",
    "loader = WebBaseLoader(\"https://www.livehire.com/careers/nikeinc/jobs\")\n",
    "page_data = loader.load().pop().page_content\n",
    "print(page_data)\n"
   ]
  },
  {
   "cell_type": "code",
   "execution_count": 48,
   "id": "6d64c25b",
   "metadata": {},
   "outputs": [
    {
     "data": {
      "text/plain": [
       "str"
      ]
     },
     "execution_count": 48,
     "metadata": {},
     "output_type": "execute_result"
    }
   ],
   "source": [
    "\n",
    "from langchain_core.prompts import PromptTemplate\n",
    "\n",
    "prompt_extract = PromptTemplate.from_template(\n",
    "        \"\"\"\n",
    "        ### SCRAPED TEXT FROM WEBSITE:\n",
    "        {page_data}\n",
    "        ### INSTRUCTION:\n",
    "        The scraped text is from the career's page of a website.\n",
    "        Your job is to extract the job postings and return them in JSON format containing the \n",
    "        following keys: `role`, `experience`, `skills` and `description`.\n",
    "        Only return the valid JSON.\n",
    "        ### VALID JSON (NO PREAMBLE):    \n",
    "        \"\"\"\n",
    ")\n",
    "\n",
    "chain_extract = prompt_extract | llm \n",
    "res = chain_extract.invoke(input={'page_data':page_data})\n",
    "type(res.content)\n",
    "\n"
   ]
  },
  {
   "cell_type": "code",
   "execution_count": 56,
   "id": "117d2361",
   "metadata": {},
   "outputs": [
    {
     "name": "stdout",
     "output_type": "stream",
     "text": [
      "[{'role': 'Administrative Assistant', 'experience': 'Contract/Temp', 'skills': '', 'description': \"NIKE, Inc. does more than outfit the world's best athletes. It is a place to explore potential, obliterate boundaries and push out the edges of what can be. The company looks for people who can grow, think, dream and create. Its culture thrives by embracing diversity and rewarding imagination.\"}, {'role': 'Azure Infrastructure Application Engineer', 'experience': 'Contract/Temp', 'skills': '', 'description': \"NIKE, Inc. does more than outfit the world's best athletes. It is a place to explore potential, obliterate boundaries and push out the edges of what can be. The company looks for people who can grow, think, dream and create. Its culture thrives by embracing diversity and rewarding imagination.\"}, {'role': 'Applications Engineer - Niche 5', 'experience': 'Contract/Temp', 'skills': '', 'description': \"NIKE, Inc. does more than outfit the world's best athletes. It is a place to explore potential, obliterate boundaries and push out the edges of what can be. The company looks for people who can grow, think, dream and create. Its culture thrives by embracing diversity and rewarding imagination.\", 'salary': 'US$67 - 77 per hour'}, {'role': 'Lead Costing Manager', 'experience': 'Contract/Temp', 'skills': '', 'description': \"NIKE, Inc. does more than outfit the world's best athletes. It is a place to explore potential, obliterate boundaries and push out the edges of what can be. The company looks for people who can grow, think, dream and create. Its culture thrives by embracing diversity and rewarding imagination.\"}, {'role': 'Data Engineer - Lead', 'experience': 'Contract/Temp', 'skills': '', 'description': \"NIKE, Inc. does more than outfit the world's best athletes. It is a place to explore potential, obliterate boundaries and push out the edges of what can be. The company looks for people who can grow, think, dream and create. Its culture thrives by embracing diversity and rewarding imagination.\"}, {'role': 'Finance Manager 4', 'experience': 'Contract/Temp', 'skills': '', 'description': \"NIKE, Inc. does more than outfit the world's best athletes. It is a place to explore potential, obliterate boundaries and push out the edges of what can be. The company looks for people who can grow, think, dream and create. Its culture thrives by embracing diversity and rewarding imagination.\"}, {'role': 'Senior Materials Developer', 'experience': 'Contract/Temp', 'skills': '', 'description': \"NIKE, Inc. does more than outfit the world's best athletes. It is a place to explore potential, obliterate boundaries and push out the edges of what can be. The company looks for people who can grow, think, dream and create. Its culture thrives by embracing diversity and rewarding imagination.\"}, {'role': 'Senior Virtual Merchant', 'experience': 'Contract/Temp', 'skills': '', 'description': \"NIKE, Inc. does more than outfit the world's best athletes. It is a place to explore potential, obliterate boundaries and push out the edges of what can be. The company looks for people who can grow, think, dream and create. Its culture thrives by embracing diversity and rewarding imagination.\"}, {'role': 'Principal Engineer', 'experience': 'Contract/Temp', 'skills': '', 'description': \"NIKE, Inc. does more than outfit the world's best athletes. It is a place to explore potential, obliterate boundaries and push out the edges of what can be. The company looks for people who can grow, think, dream and create. Its culture thrives by embracing diversity and rewarding imagination.\", 'salary': 'US$90 - 100+ per hour'}, {'role': 'Sr. Functional Tech Analyst', 'experience': 'Contract/Temp', 'skills': '', 'description': \"NIKE, Inc. does more than outfit the world's best athletes. It is a place to explore potential, obliterate boundaries and push out the edges of what can be. The company looks for people who can grow, think, dream and create. Its culture thrives by embracing diversity and rewarding imagination.\", 'salary': 'US$64 - 74 per hour'}]\n"
     ]
    }
   ],
   "source": [
    "\n",
    "# Import necessary library\n",
    "from langchain_core.output_parsers import JsonOutputParser\n",
    "\n",
    "# Create an instance of the JSON output parser\n",
    "json_parser = JsonOutputParser()\n",
    "\n",
    "# Parse the response content to get a dictionary\n",
    "try:\n",
    "    json_res = json_parser.parse(res.content)\n",
    "    # Now json_res should be a dictionary\n",
    "    print(json_res)  # Output the dictionary\n",
    "except Exception as e:\n",
    "    print(\"Error parsing JSON:\", str(e))\n",
    "\n",
    "\n",
    "\n"
   ]
  },
  {
   "cell_type": "code",
   "execution_count": 57,
   "id": "57054a76",
   "metadata": {},
   "outputs": [
    {
     "name": "stdout",
     "output_type": "stream",
     "text": [
      "{'role': 'Administrative Assistant', 'experience': 'Contract/Temp', 'skills': '', 'description': \"NIKE, Inc. does more than outfit the world's best athletes. It is a place to explore potential, obliterate boundaries and push out the edges of what can be. The company looks for people who can grow, think, dream and create. Its culture thrives by embracing diversity and rewarding imagination.\"}\n"
     ]
    }
   ],
   "source": [
    "# Assuming json_res is a list and you want the first item as a dictionary\n",
    "if isinstance(json_res, list) and len(json_res) > 0:\n",
    "    json_dict = json_res[0]  # Get the first dictionary from the list\n",
    "    print(json_dict)  # Output the dictionary\n",
    "else:\n",
    "    print(\"No valid data found in the list.\")\n"
   ]
  },
  {
   "cell_type": "code",
   "execution_count": 58,
   "id": "4596eedd",
   "metadata": {},
   "outputs": [
    {
     "name": "stdout",
     "output_type": "stream",
     "text": [
      "{'role': 'Sr. Functional Tech Analyst', 'experience': 'Contract/Temp', 'skills': '', 'description': \"NIKE, Inc. does more than outfit the world's best athletes. It is a place to explore potential, obliterate boundaries and push out the edges of what can be. The company looks for people who can grow, think, dream and create. Its culture thrives by embracing diversity and rewarding imagination.\", 'salary': 'US$64 - 74 per hour'}\n"
     ]
    }
   ],
   "source": [
    "# Combine all items into a single dictionary if they have unique keys\n",
    "combined_dict = {}\n",
    "for item in json_res:\n",
    "    if isinstance(item, dict):\n",
    "        combined_dict.update(item)\n",
    "\n",
    "print(combined_dict)  # Output the combined dictionary\n"
   ]
  },
  {
   "cell_type": "code",
   "execution_count": 59,
   "id": "fc638006",
   "metadata": {},
   "outputs": [
    {
     "data": {
      "text/html": [
       "<div>\n",
       "<style scoped>\n",
       "    .dataframe tbody tr th:only-of-type {\n",
       "        vertical-align: middle;\n",
       "    }\n",
       "\n",
       "    .dataframe tbody tr th {\n",
       "        vertical-align: top;\n",
       "    }\n",
       "\n",
       "    .dataframe thead th {\n",
       "        text-align: right;\n",
       "    }\n",
       "</style>\n",
       "<table border=\"1\" class=\"dataframe\">\n",
       "  <thead>\n",
       "    <tr style=\"text-align: right;\">\n",
       "      <th></th>\n",
       "      <th>Techstack</th>\n",
       "      <th>Links</th>\n",
       "    </tr>\n",
       "  </thead>\n",
       "  <tbody>\n",
       "    <tr>\n",
       "      <th>0</th>\n",
       "      <td>React, Node.js, MongoDB</td>\n",
       "      <td>https://example.com/react-portfolio</td>\n",
       "    </tr>\n",
       "    <tr>\n",
       "      <th>1</th>\n",
       "      <td>Angular,.NET, SQL Server</td>\n",
       "      <td>https://example.com/angular-portfolio</td>\n",
       "    </tr>\n",
       "    <tr>\n",
       "      <th>2</th>\n",
       "      <td>Vue.js, Ruby on Rails, PostgreSQL</td>\n",
       "      <td>https://example.com/vue-portfolio</td>\n",
       "    </tr>\n",
       "    <tr>\n",
       "      <th>3</th>\n",
       "      <td>Python, Django, MySQL</td>\n",
       "      <td>https://example.com/python-portfolio</td>\n",
       "    </tr>\n",
       "    <tr>\n",
       "      <th>4</th>\n",
       "      <td>Java, Spring Boot, Oracle</td>\n",
       "      <td>https://example.com/java-portfolio</td>\n",
       "    </tr>\n",
       "    <tr>\n",
       "      <th>5</th>\n",
       "      <td>Flutter, Firebase, GraphQL</td>\n",
       "      <td>https://example.com/flutter-portfolio</td>\n",
       "    </tr>\n",
       "    <tr>\n",
       "      <th>6</th>\n",
       "      <td>WordPress, PHP, MySQL</td>\n",
       "      <td>https://example.com/wordpress-portfolio</td>\n",
       "    </tr>\n",
       "    <tr>\n",
       "      <th>7</th>\n",
       "      <td>Magento, PHP, MySQL</td>\n",
       "      <td>https://example.com/magento-portfolio</td>\n",
       "    </tr>\n",
       "    <tr>\n",
       "      <th>8</th>\n",
       "      <td>React Native, Node.js, MongoDB</td>\n",
       "      <td>https://example.com/react-native-portfolio</td>\n",
       "    </tr>\n",
       "    <tr>\n",
       "      <th>9</th>\n",
       "      <td>iOS, Swift, Core Data</td>\n",
       "      <td>https://example.com/ios-portfolio</td>\n",
       "    </tr>\n",
       "    <tr>\n",
       "      <th>10</th>\n",
       "      <td>Android, Java, Room Persistence</td>\n",
       "      <td>https://example.com/android-portfolio</td>\n",
       "    </tr>\n",
       "    <tr>\n",
       "      <th>11</th>\n",
       "      <td>Kotlin, Android, Firebase</td>\n",
       "      <td>https://example.com/kotlin-android-portfolio</td>\n",
       "    </tr>\n",
       "    <tr>\n",
       "      <th>12</th>\n",
       "      <td>Android TV, Kotlin, Android NDK</td>\n",
       "      <td>https://example.com/android-tv-portfolio</td>\n",
       "    </tr>\n",
       "    <tr>\n",
       "      <th>13</th>\n",
       "      <td>iOS, Swift, ARKit</td>\n",
       "      <td>https://example.com/ios-ar-portfolio</td>\n",
       "    </tr>\n",
       "    <tr>\n",
       "      <th>14</th>\n",
       "      <td>Cross-platform, Xamarin, Azure</td>\n",
       "      <td>https://example.com/xamarin-portfolio</td>\n",
       "    </tr>\n",
       "    <tr>\n",
       "      <th>15</th>\n",
       "      <td>Backend, Kotlin, Spring Boot</td>\n",
       "      <td>https://example.com/kotlin-backend-portfolio</td>\n",
       "    </tr>\n",
       "    <tr>\n",
       "      <th>16</th>\n",
       "      <td>Frontend, TypeScript, Angular</td>\n",
       "      <td>https://example.com/typescript-frontend-portfolio</td>\n",
       "    </tr>\n",
       "    <tr>\n",
       "      <th>17</th>\n",
       "      <td>Full-stack, JavaScript, Express.js</td>\n",
       "      <td>https://example.com/full-stack-js-portfolio</td>\n",
       "    </tr>\n",
       "    <tr>\n",
       "      <th>18</th>\n",
       "      <td>Machine Learning, Python, TensorFlow</td>\n",
       "      <td>https://example.com/ml-python-portfolio</td>\n",
       "    </tr>\n",
       "    <tr>\n",
       "      <th>19</th>\n",
       "      <td>DevOps, Jenkins, Docker</td>\n",
       "      <td>https://example.com/devops-portfolio</td>\n",
       "    </tr>\n",
       "  </tbody>\n",
       "</table>\n",
       "</div>"
      ],
      "text/plain": [
       "                               Techstack  \\\n",
       "0                React, Node.js, MongoDB   \n",
       "1               Angular,.NET, SQL Server   \n",
       "2      Vue.js, Ruby on Rails, PostgreSQL   \n",
       "3                  Python, Django, MySQL   \n",
       "4              Java, Spring Boot, Oracle   \n",
       "5             Flutter, Firebase, GraphQL   \n",
       "6                  WordPress, PHP, MySQL   \n",
       "7                    Magento, PHP, MySQL   \n",
       "8         React Native, Node.js, MongoDB   \n",
       "9                  iOS, Swift, Core Data   \n",
       "10       Android, Java, Room Persistence   \n",
       "11             Kotlin, Android, Firebase   \n",
       "12       Android TV, Kotlin, Android NDK   \n",
       "13                     iOS, Swift, ARKit   \n",
       "14        Cross-platform, Xamarin, Azure   \n",
       "15          Backend, Kotlin, Spring Boot   \n",
       "16         Frontend, TypeScript, Angular   \n",
       "17    Full-stack, JavaScript, Express.js   \n",
       "18  Machine Learning, Python, TensorFlow   \n",
       "19               DevOps, Jenkins, Docker   \n",
       "\n",
       "                                                Links  \n",
       "0                 https://example.com/react-portfolio  \n",
       "1               https://example.com/angular-portfolio  \n",
       "2                   https://example.com/vue-portfolio  \n",
       "3                https://example.com/python-portfolio  \n",
       "4                  https://example.com/java-portfolio  \n",
       "5               https://example.com/flutter-portfolio  \n",
       "6             https://example.com/wordpress-portfolio  \n",
       "7               https://example.com/magento-portfolio  \n",
       "8          https://example.com/react-native-portfolio  \n",
       "9                   https://example.com/ios-portfolio  \n",
       "10              https://example.com/android-portfolio  \n",
       "11       https://example.com/kotlin-android-portfolio  \n",
       "12           https://example.com/android-tv-portfolio  \n",
       "13               https://example.com/ios-ar-portfolio  \n",
       "14              https://example.com/xamarin-portfolio  \n",
       "15       https://example.com/kotlin-backend-portfolio  \n",
       "16  https://example.com/typescript-frontend-portfolio  \n",
       "17        https://example.com/full-stack-js-portfolio  \n",
       "18            https://example.com/ml-python-portfolio  \n",
       "19               https://example.com/devops-portfolio  "
      ]
     },
     "execution_count": 59,
     "metadata": {},
     "output_type": "execute_result"
    }
   ],
   "source": [
    "\n",
    "import pandas as pd\n",
    "df = pd.read_csv(\"my_portfolio.csv\")\n",
    "df"
   ]
  },
  {
   "cell_type": "code",
   "execution_count": 60,
   "id": "297bc347",
   "metadata": {},
   "outputs": [],
   "source": [
    "import uuid\n",
    "import chromadb\n",
    "\n",
    "client = chromadb.PersistentClient('vectorstore')\n",
    "collection = client.get_or_create_collection(name=\"portfolio\")\n",
    "\n",
    "if not collection.count():\n",
    "    for _, row in df.iterrows():\n",
    "        collection.add(documents=row[\"Techstack\"],\n",
    "                       metadatas={\"links\": row[\"Links\"]},\n",
    "                       ids=[str(uuid.uuid4())])"
   ]
  },
  {
   "cell_type": "code",
   "execution_count": 64,
   "id": "eb4b75db",
   "metadata": {},
   "outputs": [
    {
     "name": "stdout",
     "output_type": "stream",
     "text": [
      "{'Teaching Staff': {'role': 'Teaching Staff', 'experience': 'Highly qualified and experienced', 'skills': ['Teaching', 'Research'], 'description': 'Committed to excellence and always striving to bring out creativity and innovative methods in teaching.', 'department': 'Information Science and Engineering'}, 'Technical Staff': {'role': 'Technical Staff', 'experience': 'Experienced', 'skills': ['Technical Support'], 'description': 'Help the students in understanding the latest technical aspects in a much simpler format.', 'department': 'Information Science and Engineering'}}\n"
     ]
    }
   ],
   "source": [
    "print(job)  # Check the contents of job\n"
   ]
  },
  {
   "cell_type": "code",
   "execution_count": 65,
   "id": "a67279e4",
   "metadata": {},
   "outputs": [
    {
     "name": "stdout",
     "output_type": "stream",
     "text": [
      "{'role': 'Administrative Assistant', 'experience': 'Contract/Temp', 'skills': '', 'description': \"NIKE, Inc. does more than outfit the world's best athletes. It is a place to explore potential, obliterate boundaries and push out the edges of what can be. The company looks for people who can grow, think, dream and create. Its culture thrives by embracing diversity and rewarding imagination.\"}\n",
      "[[{'links': 'https://example.com/android-tv-portfolio'}, {'links': 'https://example.com/kotlin-backend-portfolio'}]]\n",
      "{'role': 'Azure Infrastructure Application Engineer', 'experience': 'Contract/Temp', 'skills': '', 'description': \"NIKE, Inc. does more than outfit the world's best athletes. It is a place to explore potential, obliterate boundaries and push out the edges of what can be. The company looks for people who can grow, think, dream and create. Its culture thrives by embracing diversity and rewarding imagination.\"}\n",
      "[[{'links': 'https://example.com/android-tv-portfolio'}, {'links': 'https://example.com/kotlin-backend-portfolio'}]]\n",
      "{'role': 'Applications Engineer - Niche 5', 'experience': 'Contract/Temp', 'skills': '', 'description': \"NIKE, Inc. does more than outfit the world's best athletes. It is a place to explore potential, obliterate boundaries and push out the edges of what can be. The company looks for people who can grow, think, dream and create. Its culture thrives by embracing diversity and rewarding imagination.\", 'salary': 'US$67 - 77 per hour'}\n",
      "[[{'links': 'https://example.com/android-tv-portfolio'}, {'links': 'https://example.com/kotlin-backend-portfolio'}]]\n",
      "{'role': 'Lead Costing Manager', 'experience': 'Contract/Temp', 'skills': '', 'description': \"NIKE, Inc. does more than outfit the world's best athletes. It is a place to explore potential, obliterate boundaries and push out the edges of what can be. The company looks for people who can grow, think, dream and create. Its culture thrives by embracing diversity and rewarding imagination.\"}\n",
      "[[{'links': 'https://example.com/android-tv-portfolio'}, {'links': 'https://example.com/kotlin-backend-portfolio'}]]\n",
      "{'role': 'Data Engineer - Lead', 'experience': 'Contract/Temp', 'skills': '', 'description': \"NIKE, Inc. does more than outfit the world's best athletes. It is a place to explore potential, obliterate boundaries and push out the edges of what can be. The company looks for people who can grow, think, dream and create. Its culture thrives by embracing diversity and rewarding imagination.\"}\n",
      "[[{'links': 'https://example.com/android-tv-portfolio'}, {'links': 'https://example.com/kotlin-backend-portfolio'}]]\n",
      "{'role': 'Finance Manager 4', 'experience': 'Contract/Temp', 'skills': '', 'description': \"NIKE, Inc. does more than outfit the world's best athletes. It is a place to explore potential, obliterate boundaries and push out the edges of what can be. The company looks for people who can grow, think, dream and create. Its culture thrives by embracing diversity and rewarding imagination.\"}\n",
      "[[{'links': 'https://example.com/android-tv-portfolio'}, {'links': 'https://example.com/kotlin-backend-portfolio'}]]\n",
      "{'role': 'Senior Materials Developer', 'experience': 'Contract/Temp', 'skills': '', 'description': \"NIKE, Inc. does more than outfit the world's best athletes. It is a place to explore potential, obliterate boundaries and push out the edges of what can be. The company looks for people who can grow, think, dream and create. Its culture thrives by embracing diversity and rewarding imagination.\"}\n",
      "[[{'links': 'https://example.com/android-tv-portfolio'}, {'links': 'https://example.com/kotlin-backend-portfolio'}]]\n",
      "{'role': 'Senior Virtual Merchant', 'experience': 'Contract/Temp', 'skills': '', 'description': \"NIKE, Inc. does more than outfit the world's best athletes. It is a place to explore potential, obliterate boundaries and push out the edges of what can be. The company looks for people who can grow, think, dream and create. Its culture thrives by embracing diversity and rewarding imagination.\"}\n",
      "[[{'links': 'https://example.com/android-tv-portfolio'}, {'links': 'https://example.com/kotlin-backend-portfolio'}]]\n",
      "{'role': 'Principal Engineer', 'experience': 'Contract/Temp', 'skills': '', 'description': \"NIKE, Inc. does more than outfit the world's best athletes. It is a place to explore potential, obliterate boundaries and push out the edges of what can be. The company looks for people who can grow, think, dream and create. Its culture thrives by embracing diversity and rewarding imagination.\", 'salary': 'US$90 - 100+ per hour'}\n",
      "[[{'links': 'https://example.com/android-tv-portfolio'}, {'links': 'https://example.com/kotlin-backend-portfolio'}]]\n",
      "{'role': 'Sr. Functional Tech Analyst', 'experience': 'Contract/Temp', 'skills': '', 'description': \"NIKE, Inc. does more than outfit the world's best athletes. It is a place to explore potential, obliterate boundaries and push out the edges of what can be. The company looks for people who can grow, think, dream and create. Its culture thrives by embracing diversity and rewarding imagination.\", 'salary': 'US$64 - 74 per hour'}\n",
      "[[{'links': 'https://example.com/android-tv-portfolio'}, {'links': 'https://example.com/kotlin-backend-portfolio'}]]\n"
     ]
    }
   ],
   "source": [
    "# If job is from a list of postings\n",
    "if isinstance(json_res, list) and len(json_res) > 0:\n",
    "    for job in json_res:\n",
    "        print(job)  # Inspect each job's structure\n",
    "        if 'skills' in job:\n",
    "            links = collection.query(query_texts=job['skills'], n_results=2).get('metadatas', [])\n",
    "            print(links)\n",
    "        else:\n",
    "            print(\"No 'skills' key found in job:\", job)\n"
   ]
  },
  {
   "cell_type": "code",
   "execution_count": 66,
   "id": "477f76a2",
   "metadata": {},
   "outputs": [
    {
     "name": "stdout",
     "output_type": "stream",
     "text": [
      "[[{'links': 'https://example.com/android-tv-portfolio'}, {'links': 'https://example.com/kotlin-backend-portfolio'}]]\n"
     ]
    }
   ],
   "source": [
    "try:\n",
    "    links = collection.query(query_texts=job['skills'], n_results=2).get('metadatas', [])\n",
    "    print(links)\n",
    "except KeyError:\n",
    "    print(\"The 'skills' key is not found in the job variable.\")\n"
   ]
  },
  {
   "cell_type": "code",
   "execution_count": 67,
   "id": "11c7084a",
   "metadata": {},
   "outputs": [],
   "source": [
    "import uuid\n",
    "import chromadb\n",
    "\n",
    "client = chromadb.PersistentClient('vectorstore')\n",
    "collection = client.get_or_create_collection(name=\"portfolio\")\n",
    "\n",
    "if not collection.count():\n",
    "    for _, row in df.iterrows():\n",
    "        collection.add(documents=row[\"Techstack\"],\n",
    "                       metadatas={\"links\": row[\"Links\"]},\n",
    "                       ids=[str(uuid.uuid4())])\n"
   ]
  },
  {
   "cell_type": "code",
   "execution_count": 68,
   "id": "68622c7a",
   "metadata": {
    "scrolled": true
   },
   "outputs": [
    {
     "data": {
      "text/plain": [
       "[[{'links': 'https://example.com/android-tv-portfolio'},\n",
       "  {'links': 'https://example.com/kotlin-backend-portfolio'}]]"
      ]
     },
     "execution_count": 68,
     "metadata": {},
     "output_type": "execute_result"
    }
   ],
   "source": [
    "links = collection.query(query_texts=job['skills'], n_results=2).get('metadatas', [])\n",
    "links"
   ]
  },
  {
   "cell_type": "code",
   "execution_count": 69,
   "id": "cd604365",
   "metadata": {},
   "outputs": [
    {
     "data": {
      "text/plain": [
       "{'role': 'Sr. Functional Tech Analyst',\n",
       " 'experience': 'Contract/Temp',\n",
       " 'skills': '',\n",
       " 'description': \"NIKE, Inc. does more than outfit the world's best athletes. It is a place to explore potential, obliterate boundaries and push out the edges of what can be. The company looks for people who can grow, think, dream and create. Its culture thrives by embracing diversity and rewarding imagination.\",\n",
       " 'salary': 'US$64 - 74 per hour'}"
      ]
     },
     "execution_count": 69,
     "metadata": {},
     "output_type": "execute_result"
    }
   ],
   "source": [
    "job"
   ]
  },
  {
   "cell_type": "code",
   "execution_count": 70,
   "id": "7fca2c47",
   "metadata": {},
   "outputs": [
    {
     "name": "stdout",
     "output_type": "stream",
     "text": [
      "The job dictionary does not contain 'skills': [{'role': 'Administrative Assistant', 'experience': 'Contract/Temp', 'skills': '', 'description': \"NIKE, Inc. does more than outfit the world's best athletes. It is a place to explore potential, obliterate boundaries and push out the edges of what can be. The company looks for people who can grow, think, dream and create. Its culture thrives by embracing diversity and rewarding imagination.\"}, {'role': 'Azure Infrastructure Application Engineer', 'experience': 'Contract/Temp', 'skills': '', 'description': \"NIKE, Inc. does more than outfit the world's best athletes. It is a place to explore potential, obliterate boundaries and push out the edges of what can be. The company looks for people who can grow, think, dream and create. Its culture thrives by embracing diversity and rewarding imagination.\"}, {'role': 'Applications Engineer - Niche 5', 'experience': 'Contract/Temp', 'skills': '', 'description': \"NIKE, Inc. does more than outfit the world's best athletes. It is a place to explore potential, obliterate boundaries and push out the edges of what can be. The company looks for people who can grow, think, dream and create. Its culture thrives by embracing diversity and rewarding imagination.\", 'salary': 'US$67 - 77 per hour'}, {'role': 'Lead Costing Manager', 'experience': 'Contract/Temp', 'skills': '', 'description': \"NIKE, Inc. does more than outfit the world's best athletes. It is a place to explore potential, obliterate boundaries and push out the edges of what can be. The company looks for people who can grow, think, dream and create. Its culture thrives by embracing diversity and rewarding imagination.\"}, {'role': 'Data Engineer - Lead', 'experience': 'Contract/Temp', 'skills': '', 'description': \"NIKE, Inc. does more than outfit the world's best athletes. It is a place to explore potential, obliterate boundaries and push out the edges of what can be. The company looks for people who can grow, think, dream and create. Its culture thrives by embracing diversity and rewarding imagination.\"}, {'role': 'Finance Manager 4', 'experience': 'Contract/Temp', 'skills': '', 'description': \"NIKE, Inc. does more than outfit the world's best athletes. It is a place to explore potential, obliterate boundaries and push out the edges of what can be. The company looks for people who can grow, think, dream and create. Its culture thrives by embracing diversity and rewarding imagination.\"}, {'role': 'Senior Materials Developer', 'experience': 'Contract/Temp', 'skills': '', 'description': \"NIKE, Inc. does more than outfit the world's best athletes. It is a place to explore potential, obliterate boundaries and push out the edges of what can be. The company looks for people who can grow, think, dream and create. Its culture thrives by embracing diversity and rewarding imagination.\"}, {'role': 'Senior Virtual Merchant', 'experience': 'Contract/Temp', 'skills': '', 'description': \"NIKE, Inc. does more than outfit the world's best athletes. It is a place to explore potential, obliterate boundaries and push out the edges of what can be. The company looks for people who can grow, think, dream and create. Its culture thrives by embracing diversity and rewarding imagination.\"}, {'role': 'Principal Engineer', 'experience': 'Contract/Temp', 'skills': '', 'description': \"NIKE, Inc. does more than outfit the world's best athletes. It is a place to explore potential, obliterate boundaries and push out the edges of what can be. The company looks for people who can grow, think, dream and create. Its culture thrives by embracing diversity and rewarding imagination.\", 'salary': 'US$90 - 100+ per hour'}, {'role': 'Sr. Functional Tech Analyst', 'experience': 'Contract/Temp', 'skills': '', 'description': \"NIKE, Inc. does more than outfit the world's best athletes. It is a place to explore potential, obliterate boundaries and push out the edges of what can be. The company looks for people who can grow, think, dream and create. Its culture thrives by embracing diversity and rewarding imagination.\", 'salary': 'US$64 - 74 per hour'}]\n"
     ]
    }
   ],
   "source": [
    "# Assuming json_res is the dictionary you're working with\n",
    "job = json_res  # Ensure this is a dictionary\n",
    "\n",
    "# Check if 'skills' exists\n",
    "if isinstance(job, dict) and 'skills' in job:\n",
    "    skills = job['skills']\n",
    "    print(skills)\n",
    "else:\n",
    "    print(\"The job dictionary does not contain 'skills':\", job)\n",
    "\n"
   ]
  },
  {
   "cell_type": "code",
   "execution_count": 72,
   "id": "c42a5765",
   "metadata": {},
   "outputs": [
    {
     "name": "stdout",
     "output_type": "stream",
     "text": [
      "Subject: Expert Solutions for NIKE, Inc.'s Technical and Operational Needs\n",
      "\n",
      "Dear Hiring Manager,\n",
      "\n",
      "I came across the job postings for various contract/temp positions at NIKE, Inc., including Administrative Assistant, Azure Infrastructure Application Engineer, Applications Engineer - Niche 5, Lead Costing Manager, Data Engineer - Lead, Finance Manager 4, Senior Materials Developer, Senior Virtual Merchant, Principal Engineer, and Sr. Functional Tech Analyst. I understand that these roles require a unique blend of technical expertise, operational efficiency, and innovative thinking.\n",
      "\n",
      "At AtliQ, we specialize in providing AI-powered and software-driven solutions that cater to the diverse needs of businesses like NIKE, Inc. Our team of experts has a proven track record of delivering tailored solutions that drive scalability, process optimization, cost reduction, and overall efficiency. We believe that our capabilities align with the requirements of the mentioned job postings and can support NIKE, Inc.'s mission to explore potential, obliterate boundaries, and push out the edges of what can be.\n",
      "\n",
      "Our portfolio showcases our expertise in developing cutting-edge solutions for various industries. For instance, our work on Android TV solutions (https://example.com/android-tv-portfolio) demonstrates our ability to create immersive and interactive experiences. Additionally, our Kotlin backend development portfolio (https://example.com/kotlin-backend-portfolio) highlights our proficiency in building robust and scalable backend systems.\n",
      "\n",
      "We would be delighted to discuss how our solutions can support NIKE, Inc.'s technical and operational needs. Please feel free to reach out to me directly to explore potential collaboration opportunities.\n",
      "\n",
      "Best regards,\n",
      "\n",
      "Mohan\n",
      "Business Development Executive\n",
      "AtliQ\n"
     ]
    }
   ],
   "source": [
    "prompt_email = PromptTemplate.from_template(\n",
    "        \"\"\"\n",
    "        ### JOB DESCRIPTION:\n",
    "        {job_description}\n",
    "        \n",
    "        ### INSTRUCTION:\n",
    "        You are Mohan, a business development executive at AtliQ. AtliQ is an AI & Software Consulting company dedicated to facilitating\n",
    "        the seamless integration of business processes through automated tools. \n",
    "        Over our experience, we have empowered numerous enterprises with tailored solutions, fostering scalability, \n",
    "        process optimization, cost reduction, and heightened overall efficiency. \n",
    "        Your job is to write a cold email to the client regarding the job mentioned above describing the capability of AtliQ \n",
    "        in fulfilling their needs.\n",
    "        Also add the most relevant ones from the following links to showcase Atliq's portfolio: {link_list}\n",
    "        Remember you are Mohan, BDE at AtliQ. \n",
    "        Do not provide a preamble.\n",
    "        ### EMAIL (NO PREAMBLE):\n",
    "        \n",
    "        \"\"\"\n",
    "        )\n",
    "\n",
    "chain_email = prompt_email | llm\n",
    "res = chain_email.invoke({\"job_description\": str(job), \"link_list\": links})\n",
    "print(res.content)"
   ]
  },
  {
   "cell_type": "code",
   "execution_count": null,
   "id": "fa1ddba8",
   "metadata": {},
   "outputs": [],
   "source": []
  },
  {
   "cell_type": "code",
   "execution_count": null,
   "id": "fe3315d6",
   "metadata": {},
   "outputs": [],
   "source": []
  }
 ],
 "metadata": {
  "kernelspec": {
   "display_name": "Python 3 (ipykernel)",
   "language": "python",
   "name": "python3"
  },
  "language_info": {
   "codemirror_mode": {
    "name": "ipython",
    "version": 3
   },
   "file_extension": ".py",
   "mimetype": "text/x-python",
   "name": "python",
   "nbconvert_exporter": "python",
   "pygments_lexer": "ipython3",
   "version": "3.11.7"
  }
 },
 "nbformat": 4,
 "nbformat_minor": 5
}
